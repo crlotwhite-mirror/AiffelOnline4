{
 "cells": [
  {
   "cell_type": "markdown",
   "metadata": {},
   "source": [
    "# Seq2seq으로 번역기 만들기"
   ]
  },
  {
   "cell_type": "code",
   "execution_count": 1,
   "metadata": {},
   "outputs": [
    {
     "name": "stdout",
     "output_type": "stream",
     "text": [
      "2.6.0\n"
     ]
    }
   ],
   "source": [
    "import time\n",
    "import re\n",
    "import os\n",
    "import io\n",
    "import random\n",
    "\n",
    "import tensorflow as tf\n",
    "import numpy as np\n",
    "from sklearn.model_selection import train_test_split\n",
    "import matplotlib.ticker as ticker\n",
    "import matplotlib.pyplot as plt\n",
    "import seaborn as sns\n",
    "import pandas as pd\n",
    "\n",
    "from tqdm import tqdm\n",
    "\n",
    "print(tf.__version__)"
   ]
  },
  {
   "cell_type": "markdown",
   "metadata": {},
   "source": [
    "matplotlib와 sns 설정"
   ]
  },
  {
   "cell_type": "code",
   "execution_count": 2,
   "metadata": {},
   "outputs": [
    {
     "data": {
      "text/plain": [
       "<Figure size 1080x1080 with 0 Axes>"
      ]
     },
     "execution_count": 2,
     "metadata": {},
     "output_type": "execute_result"
    },
    {
     "data": {
      "text/plain": [
       "<Figure size 1080x1080 with 0 Axes>"
      ]
     },
     "metadata": {},
     "output_type": "display_data"
    }
   ],
   "source": [
    "# seaborn에 한글 지원 폰트 설정\n",
    "# sns.set(font='Malgun Gothic')\n",
    "sns.set(font='NanumGothic')\n",
    "\n",
    "# 마이너스 부호 올바르게 표시하기 위한 설정\n",
    "plt.rcParams['axes.unicode_minus'] = False\n",
    "\n",
    "plt.figure(figsize=(15, 15))"
   ]
  },
  {
   "cell_type": "markdown",
   "metadata": {},
   "source": [
    "## 데이터 전처리"
   ]
  },
  {
   "cell_type": "markdown",
   "metadata": {},
   "source": [
    "### 데이터 확인"
   ]
  },
  {
   "cell_type": "code",
   "execution_count": 3,
   "metadata": {},
   "outputs": [],
   "source": [
    "path_to_zip = tf.keras.utils.get_file(\n",
    "    'korean-english-park.train.tar.gz',\n",
    "    origin='https://github.com/jungyeul/korean-parallel-corpora/raw/master/korean-english-news-v1/korean-english-park.train.tar.gz',\n",
    "    extract=True)\n",
    "\n",
    "en_path_to_file = os.path.dirname(path_to_zip)+\"/korean-english-park.train.en\"\n",
    "ko_path_to_file = os.path.dirname(path_to_zip)+\"/korean-english-park.train.ko\""
   ]
  },
  {
   "cell_type": "code",
   "execution_count": 4,
   "metadata": {},
   "outputs": [
    {
     "name": "stdout",
     "output_type": "stream",
     "text": [
      "Data size:  94123\n",
      "Example: \n",
      "1::Much of personal computing is about \"can you top this?\"\n",
      "2::so a mention a few weeks ago about a rechargeable wireless optical mouse brought in another rechargeable, wireless mouse.\n",
      "3::Like all optical mice, But it also doesn't need a desk.\n",
      "4::uses gyroscopic sensors to control the cursor movement as you move your wrist, arm, whatever through the air.\n",
      "5::Intelligence officials have revealed a spate of foiled plots on ships in Southeast Asia and are warning that a narrow stretch of water carrying almost one third of the world's maritime trade is vulnerable to a terror attack.\n",
      "6::After learning of several foiled al Qaeda attempts on U.S. and commercial ships in the area, experts are warning that the terror network still wants to cripple the global economy, the world's economic jugular vein in Southeast Asia is at risk.\n",
      "7::Caffeine can help increase reaction time and improve performance for military servicemen who must perform complex tasks or who need help staying alert for longer periods of time, according to a new report by the National Academy of Sciences.\n",
      "8::\"Specifically, it can be used in maintaining speed of reactions and visual and auditory vigilance, which in military operations could be a life or death situation,\" according to the report.\n",
      "9::\"Something that will boost their capabilities at crucial moments is very important.\"\n",
      "10::Researchers are already exploring ways to put caffeine in nutrition bars or chewing gum as alternatives to coffee, Archibald said.\n"
     ]
    }
   ],
   "source": [
    "with open(en_path_to_file) as f:\n",
    "    en_raw = f.read().splitlines()\n",
    "\n",
    "print('Data size: ', len(en_raw))\n",
    "print('Example: ')\n",
    "\n",
    "for i, sen in enumerate(en_raw[:10]):\n",
    "    print(f'{i+1}::{sen}')"
   ]
  },
  {
   "cell_type": "code",
   "execution_count": 5,
   "metadata": {},
   "outputs": [
    {
     "name": "stdout",
     "output_type": "stream",
     "text": [
      "Data size:  94123\n",
      "Example: \n",
      "1::개인용 컴퓨터 사용의 상당 부분은 \"이것보다 뛰어날 수 있느냐?\"\n",
      "2::모든 광마우스와 마찬가지 로 이 광마우스도 책상 위에 놓는 마우스 패드를 필요로 하지 않는다.\n",
      "3::그러나 이것은 또한 책상도 필요로 하지 않는다.\n",
      "4::79.95달러하는 이 최첨단 무선 광마우스는 허공에서 팔목, 팔, 그외에 어떤 부분이든 그 움직임에따라 커서의 움직임을 조절하는 회전 운동 센서를 사용하고 있다.\n",
      "5::정보 관리들은 동남 아시아에서의 선박들에 대한 많은 (테러) 계획들이 실패로 돌아갔음을 밝혔으며, 세계 해상 교역량의 거의 3분의 1을 운송하는 좁은 해로인 말라카 해협이 테러 공격을 당하기 쉽다고 경고하고 있다.\n",
      "6::이 지역에 있는 미국 선박과 상업용 선박들에 대한 알카에다의 (테러) 시도 중 여러 건이 실패했다는 것을 알게 된 후에, 전문가들은 테러 조직이 여전히 세계 경제에 타격을 입히려 한다고 경고하고 있으며, 동남 아시아에 있는 세계 경제의 주요 통로가 위험에 처해 있다고 그들은 생각하고 있다.\n",
      "7::국립 과학 학회가 발표한 새 보고서에따르면, 복잡한 임무를 수행해야 하는 군인들이나 보다 오랜 시간 동안 경계를 늦추지 않고 있기 위해 도움이 필요한 군인들에게 카페인이 반응 시간을 증가시키고 임무 수행 능력을 향상시키는데 도움이 된다고 한다.\n",
      "8::이 보고서에따르면, \"특히, 군사 작전에서 생사가 걸린 상황이 될 수도 있는 반응 속도와 시각 및 청각의 경계 상태를 유지시키기 위해 카페인이 사용될 수도 있다.\" 고 한다.\n",
      "9::\"결정적인 순간에 그들의 능력을 증가시켜 줄 그 무엇이 매우 중요합니다.\"\n",
      "10::연구가들이 이미 커피 대체품으로서 음식 대용 과자나 껌에 카페인을 첨가하는 방법을 연구하고 있다고 Archibald는 말했다.\n"
     ]
    }
   ],
   "source": [
    "with open(ko_path_to_file) as f:\n",
    "    ko_raw = f.read().splitlines()\n",
    "\n",
    "print('Data size: ', len(ko_raw))\n",
    "print('Example: ')\n",
    "\n",
    "for i, sen in enumerate(ko_raw[:10]):\n",
    "    print(f'{i+1}::{sen}')"
   ]
  },
  {
   "cell_type": "markdown",
   "metadata": {},
   "source": [
    "### 데이터 가공"
   ]
  },
  {
   "cell_type": "code",
   "execution_count": 6,
   "metadata": {},
   "outputs": [],
   "source": [
    "from konlpy.tag import Mecab\n",
    "\n",
    "# 전처리 함수\n",
    "def preprocess_sentence(sentence, s_token=False, e_token=False):\n",
    "    sentence = sentence.strip()\n",
    "\n",
    "    sentence = re.sub(r\"([?.!,])\", r\" \\1 \", sentence)\n",
    "    sentence = re.sub(r'[\" \"]+', \" \", sentence)\n",
    "    sentence = re.sub(r\"[^ㄱ-ㅎㅏ-ㅣ가-힣a-zA-Z?.!,]+\", \" \", sentence)\n",
    "\n",
    "    sentence = sentence.strip()\n",
    "\n",
    "    if s_token:\n",
    "        sentence = '<start> ' + sentence\n",
    "\n",
    "    if e_token:\n",
    "        sentence += ' <end>'\n",
    "    \n",
    "    return sentence\n",
    "\n",
    "# Mecab 객체 생성\n",
    "mecab = Mecab()\n",
    "\n",
    "# 중복 제거하고 전처리\n",
    "cleaned_corpus = list(set(zip(ko_raw, en_raw)))  # 중복 제거\n",
    "cleaned_ko, cleaned_en = zip(*cleaned_corpus)  # 병렬 쌍 유지\n",
    "\n",
    "assert len(cleaned_ko)==len(cleaned_en), \"단어 개수 틀림\"\n",
    "\n",
    "# 전처리 적용\n",
    "cleaned_ko = [preprocess_sentence(sentence) for sentence in cleaned_ko]\n",
    "cleaned_en = [preprocess_sentence(sentence, s_token=True, e_token=True) for sentence in cleaned_en]\n",
    "\n",
    "# 토큰화\n",
    "tokenized_ko = [mecab.morphs(sentence) for sentence in cleaned_ko]\n",
    "tokenized_en = [sentence.split() for sentence in cleaned_en]  # split() 함수를 이용해 토큰화\n"
   ]
  },
  {
   "cell_type": "markdown",
   "metadata": {},
   "source": [
    "결과 확인"
   ]
  },
  {
   "cell_type": "code",
   "execution_count": 7,
   "metadata": {},
   "outputs": [
    {
     "data": {
      "text/plain": [
       "(['잡스',\n",
       "  '는',\n",
       "  '성명',\n",
       "  '에서',\n",
       "  '회계',\n",
       "  '연도',\n",
       "  '전반기',\n",
       "  '매출액',\n",
       "  '이',\n",
       "  '억',\n",
       "  '달러',\n",
       "  '를',\n",
       "  '기록',\n",
       "  '했다',\n",
       "  '며',\n",
       "  '앞',\n",
       "  '으로',\n",
       "  '도',\n",
       "  '멋진',\n",
       "  '제품',\n",
       "  '들',\n",
       "  '을',\n",
       "  '시장',\n",
       "  '에',\n",
       "  '선보일',\n",
       "  '예정',\n",
       "  '이',\n",
       "  '라고',\n",
       "  '밝혔',\n",
       "  '다',\n",
       "  '.'],\n",
       " '잡스는 성명에서 회계연도 전반기 매출액이 억 달러를 기록했다 며 앞으로도 멋진 제품들을 시장에 선보일 예정 이라고 밝혔다 .')"
      ]
     },
     "execution_count": 7,
     "metadata": {},
     "output_type": "execute_result"
    }
   ],
   "source": [
    "tokenized_ko[0], cleaned_ko[0]"
   ]
  },
  {
   "cell_type": "code",
   "execution_count": 8,
   "metadata": {},
   "outputs": [
    {
     "data": {
      "text/plain": [
       "(['<start>',\n",
       "  'With',\n",
       "  'over',\n",
       "  'billion',\n",
       "  'in',\n",
       "  'revenue',\n",
       "  'for',\n",
       "  'the',\n",
       "  'first',\n",
       "  'half',\n",
       "  'of',\n",
       "  'our',\n",
       "  'fiscal',\n",
       "  'year',\n",
       "  ',',\n",
       "  'we',\n",
       "  'have',\n",
       "  'strong',\n",
       "  'momentum',\n",
       "  'to',\n",
       "  'launch',\n",
       "  'some',\n",
       "  'terrific',\n",
       "  'new',\n",
       "  'products',\n",
       "  'in',\n",
       "  'the',\n",
       "  'coming',\n",
       "  'quarters',\n",
       "  ',',\n",
       "  'Jobs',\n",
       "  'said',\n",
       "  'in',\n",
       "  'a',\n",
       "  'statement',\n",
       "  '.',\n",
       "  '<end>'],\n",
       " '<start> With over billion in revenue for the first half of our fiscal year , we have strong momentum to launch some terrific new products in the coming quarters , Jobs said in a statement . <end>')"
      ]
     },
     "execution_count": 8,
     "metadata": {},
     "output_type": "execute_result"
    }
   ],
   "source": [
    "tokenized_en[0], cleaned_en[0]"
   ]
  },
  {
   "cell_type": "markdown",
   "metadata": {},
   "source": [
    "길이 분포 확인"
   ]
  },
  {
   "cell_type": "code",
   "execution_count": 9,
   "metadata": {},
   "outputs": [
    {
     "data": {
      "image/png": "[encoded data removed]",
      "text/plain": [
       "<Figure size 864x432 with 1 Axes>"
      ]
     },
     "metadata": {},
     "output_type": "display_data"
    }
   ],
   "source": [
    "# 문장 길이 리스트를 만듭니다.\n",
    "ko_lengths = [len(s) for s in tokenized_ko]\n",
    "en_lengths = [len(s) for s in tokenized_en]\n",
    "\n",
    "# 히스토그램으로 문장 길이 분포를 시각화합니다.\n",
    "plt.figure(figsize=(12, 6))\n",
    "plt.hist(ko_lengths, bins=50, alpha=0.5, label='Korean')\n",
    "plt.hist(en_lengths, bins=50, alpha=0.5, label='English')\n",
    "plt.title('Length of Sentences')\n",
    "plt.xlabel('Length')\n",
    "plt.ylabel('Frequency')\n",
    "plt.legend()\n",
    "plt.show()"
   ]
  },
  {
   "cell_type": "markdown",
   "metadata": {},
   "source": [
    "40 이상의 토큰을 삭제  \n",
    "단, 쌍은 유지"
   ]
  },
  {
   "cell_type": "code",
   "execution_count": 10,
   "metadata": {},
   "outputs": [],
   "source": [
    "# 토큰의 길이가 40 이하인 데이터만 선별하고, \n",
    "#tokenized_ko와 tokenized_en의 쌍을 유지합니다.\n",
    "filtered_ko = []\n",
    "filtered_en = []\n",
    "for ko_sen, en_sen in zip(tokenized_ko, tokenized_en):\n",
    "    if len(ko_sen) <= 40 and len(en_sen) <= 40:\n",
    "        filtered_ko.append(ko_sen)\n",
    "        filtered_en.append(en_sen)\n",
    "\n",
    "tokenized_ko = filtered_ko\n",
    "tokenized_en = filtered_en"
   ]
  },
  {
   "cell_type": "markdown",
   "metadata": {},
   "source": [
    "다시 분포 확인"
   ]
  },
  {
   "cell_type": "code",
   "execution_count": 11,
   "metadata": {},
   "outputs": [
    {
     "data": {
      "image/png": "[encoded data removed]",
      "text/plain": [
       "<Figure size 864x432 with 1 Axes>"
      ]
     },
     "metadata": {},
     "output_type": "display_data"
    }
   ],
   "source": [
    "# 문장 길이 리스트를 만듭니다.\n",
    "ko_lengths = [len(s) for s in tokenized_ko]\n",
    "en_lengths = [len(s) for s in tokenized_en]\n",
    "\n",
    "# 히스토그램으로 문장 길이 분포를 시각화합니다.\n",
    "plt.figure(figsize=(12, 6))\n",
    "plt.hist(ko_lengths, bins=50, alpha=0.5, label='Korean')\n",
    "plt.hist(en_lengths, bins=50, alpha=0.5, label='English')\n",
    "plt.title('Length of Sentences')\n",
    "plt.xlabel('Length')\n",
    "plt.ylabel('Frequency')\n",
    "plt.legend()\n",
    "plt.show()"
   ]
  },
  {
   "cell_type": "markdown",
   "metadata": {},
   "source": [
    "갯수 확인"
   ]
  },
  {
   "cell_type": "code",
   "execution_count": 12,
   "metadata": {},
   "outputs": [
    {
     "data": {
      "text/plain": [
       "(62750, 62750)"
      ]
     },
     "execution_count": 12,
     "metadata": {},
     "output_type": "execute_result"
    }
   ],
   "source": [
    "len(tokenized_en), len(tokenized_ko)"
   ]
  },
  {
   "cell_type": "code",
   "execution_count": 13,
   "metadata": {},
   "outputs": [
    {
     "data": {
      "text/plain": [
       "(62750, 62750)"
      ]
     },
     "execution_count": 13,
     "metadata": {},
     "output_type": "execute_result"
    }
   ],
   "source": [
    "len(tokenized_en), len(tokenized_ko)"
   ]
  },
  {
   "cell_type": "markdown",
   "metadata": {},
   "source": [
    "정수화"
   ]
  },
  {
   "cell_type": "code",
   "execution_count": 14,
   "metadata": {},
   "outputs": [],
   "source": [
    "# 시퀀스와 토크나이저 생성\n",
    "def tokenize(corpus):\n",
    "    tokenizer = tf.keras.preprocessing.text.Tokenizer(filters='')\n",
    "    tokenizer.fit_on_texts(corpus)\n",
    "\n",
    "    tensor = tokenizer.texts_to_sequences(corpus)\n",
    "\n",
    "    tensor = tf.keras.preprocessing.sequence.pad_sequences(tensor, padding='post')\n",
    "\n",
    "    return tensor, tokenizer"
   ]
  },
  {
   "cell_type": "code",
   "execution_count": 15,
   "metadata": {},
   "outputs": [],
   "source": [
    "# 정수화된 텐서와 토크나이저\n",
    "tensor_ko, tokenizer_ko = tokenize(tokenized_ko)\n",
    "tensor_en, tokenizer_en = tokenize(tokenized_en)"
   ]
  },
  {
   "cell_type": "markdown",
   "metadata": {},
   "source": [
    "### 정리\n",
    "\n",
    "지금까지의 과정을 통해 텍스트 전처리가 수행되었다.\n",
    "\n",
    "1. 중복된 데이터 제거\n",
    "2. 정규표현식을 통한 데이터 전처리 (이를 위해 영어와 한국어를 모두 케어할 수 있도록 정규식 수정)\n",
    "3. 한국어는 형태소 분석기, 영어는 공백 기반으로 토큰화\n",
    "4. 길이분포를 이용해 지나치게 토큰 수가 많은 데이터 제거\n",
    "5. 지금까지 준비된 코퍼스를 정수화\n",
    "\n",
    "각 언어별 특징을 고려한 토큰화와 불필요한 문장 부호 제거 등을 통해 \n",
    "데이터 클리닝을 위한 전처리가 충분히 잘 이루어졌다고 생각한다."
   ]
  },
  {
   "cell_type": "markdown",
   "metadata": {},
   "source": [
    "## 모델 설계"
   ]
  },
  {
   "cell_type": "markdown",
   "metadata": {},
   "source": [
    "### 어텐션, 인코더, 디코더"
   ]
  },
  {
   "cell_type": "code",
   "execution_count": 16,
   "metadata": {},
   "outputs": [],
   "source": [
    "class BahdanauAttention(tf.keras.layers.Layer):\n",
    "    def __init__(self, units):\n",
    "        super(BahdanauAttention, self).__init__()\n",
    "        self.w_dec = tf.keras.layers.Dense(units)\n",
    "        self.w_enc = tf.keras.layers.Dense(units)\n",
    "        self.w_com = tf.keras.layers.Dense(1)\n",
    "    \n",
    "    def call(self, h_enc, h_dec):\n",
    "        # h_enc shape: [batch x length x units]\n",
    "        # h_dec shape: [batch x units]\n",
    "\n",
    "        h_enc = self.w_enc(h_enc)\n",
    "        h_dec = tf.expand_dims(h_dec, 1)\n",
    "        h_dec = self.w_dec(h_dec)\n",
    "\n",
    "        score = self.w_com(tf.nn.tanh(h_dec + h_enc))\n",
    "        \n",
    "        attn = tf.nn.softmax(score, axis=1)\n",
    "\n",
    "        context_vec = attn * h_enc\n",
    "        context_vec = tf.reduce_sum(context_vec, axis=1)\n",
    "\n",
    "        return context_vec, attn"
   ]
  },
  {
   "cell_type": "code",
   "execution_count": 17,
   "metadata": {},
   "outputs": [],
   "source": [
    "class LuongAttention(tf.keras.layers.Layer):\n",
    "    def __init__(self, units):\n",
    "        super(LuongAttention, self).__init__()\n",
    "        self.w_com = tf.keras.layers.Dense(units)\n",
    "    \n",
    "    def call(self, h_enc, h_dec):\n",
    "        # h_enc shape: [batch x length x units]\n",
    "        # h_dec shape: [batch x units]\n",
    "\n",
    "        h_dec = tf.expand_dims(h_dec, 1)\n",
    "        score = tf.matmul(h_enc, h_dec, transpose_b=True)\n",
    "        \n",
    "        attn = tf.nn.softmax(score, axis=1)\n",
    "\n",
    "        context_vec = attn * h_enc\n",
    "        context_vec = tf.reduce_sum(context_vec, axis=1)\n",
    "\n",
    "        return context_vec, attn\n"
   ]
  },
  {
   "cell_type": "code",
   "execution_count": 18,
   "metadata": {},
   "outputs": [],
   "source": [
    "class Encoder(tf.keras.Model):\n",
    "    def __init__(self, vocab_size, embedding_dim, enc_units, dropout_rate=0.3, mode='gru'):\n",
    "        super(Encoder, self).__init__()\n",
    "        \n",
    "        self.enc_units = enc_units\n",
    "        self.embedding = tf.keras.layers.Embedding(vocab_size, embedding_dim)\n",
    "        \n",
    "        # mode에 따라 레이어 변경\n",
    "        # 모드가 잘못 입력되면 모델 생성 불가\n",
    "        self.mode = mode\n",
    "        assert mode in ['gru', 'lstm'], 'wrong mode'\n",
    "        \n",
    "        \n",
    "        self.gru = tf.keras.layers.GRU(enc_units, return_sequences=True)\n",
    "        self.lstm = tf.keras.layers.LSTM(enc_units, \n",
    "                                             return_sequences=True, \n",
    "                                             return_state=True)\n",
    "\n",
    "        # dropout이 추가됨\n",
    "        self.dropout_rate = dropout_rate\n",
    "        \n",
    "        if dropout_rate is not None:\n",
    "            self.dropout = tf.keras.layers.Dropout(dropout_rate)\n",
    "        \n",
    "    def call(self, x):\n",
    "        out = self.embedding(x)\n",
    "        # dropout이 추가됨\n",
    "        if self.dropout_rate is not None:\n",
    "            out = self.dropout(out)\n",
    "        \n",
    "        if self.mode == 'gru':\n",
    "            out = self.gru(out)\n",
    "        elif self.mode == 'lstm':\n",
    "            out, _, _ = self.lstm(out)  # LSTM의 출력과 두 상태를 반환합니다.\n",
    "        \n",
    "        return out"
   ]
  },
  {
   "cell_type": "code",
   "execution_count": 19,
   "metadata": {},
   "outputs": [],
   "source": [
    "class Decoder(tf.keras.Model):\n",
    "    def __init__(self, vocab_size, embedding_dim, dec_units, dropout_rate=0.3, mode='gru', attention='b'):\n",
    "        super(Decoder, self).__init__()\n",
    "        self.dec_units = dec_units\n",
    "        self.embedding = tf.keras.layers.Embedding(vocab_size, embedding_dim)\n",
    "        \n",
    "        # 모드 변수 설정이 잘못되면 생성 불가\n",
    "        self.mode = mode\n",
    "        assert mode in ['gru', 'lstm'], 'wrong mode'\n",
    "        \n",
    "        self.gru = tf.keras.layers.GRU(dec_units,\n",
    "                                       return_sequences=True,\n",
    "                                       return_state=True)\n",
    "        self.lstm = tf.keras.layers.LSTM(dec_units,\n",
    "                                       return_sequences=True,\n",
    "                                       return_state=True)\n",
    "        \n",
    "        self.fc = tf.keras.layers.Dense(vocab_size)\n",
    "        \n",
    "        # dropout이 추가됨\n",
    "        self.dropout_rate = dropout_rate\n",
    "        if dropout_rate is not None:\n",
    "            self.dropout = tf.keras.layers.Dropout(dropout_rate)\n",
    "\n",
    "        \n",
    "        # 잘못된 인자 차단\n",
    "        assert attention in ['b', 'l'], 'wrong attention'\n",
    "        if attention == 'b':\n",
    "            self.attention = BahdanauAttention(self.dec_units)\n",
    "        elif attention == 'l':\n",
    "            self.attention = LuongAttention(self.dec_units)\n",
    "\n",
    "    def call(self, x, h_dec, enc_out):\n",
    "        context_vec, attn = self.attention(enc_out, h_dec)\n",
    "\n",
    "        out = self.embedding(x)\n",
    "        \n",
    "        # dropout이 추가됨\n",
    "        if self.dropout_rate is not None:\n",
    "            out = self.dropout(out)\n",
    "            \n",
    "        out = tf.concat([tf.expand_dims(context_vec, 1), out], axis=-1)\n",
    "        \n",
    "        if self.mode == 'gru':\n",
    "            out, h_dec = self.gru(out)\n",
    "        elif self.mode =='lstm':\n",
    "            # LSTM 사용 시에는 hidden state 뿐 아니라 cell state도 리턴해야 합니다.\n",
    "            out, h_dec, c_dec = self.lstm(out)\n",
    "            \n",
    "        out = tf.reshape(out, (-1, out.shape[2]))\n",
    "        out = self.fc(out)\n",
    "\n",
    "        return out, h_dec, attn"
   ]
  },
  {
   "cell_type": "markdown",
   "metadata": {},
   "source": [
    "### 하이퍼 파라미터와 모델 생성"
   ]
  },
  {
   "cell_type": "code",
   "execution_count": 32,
   "metadata": {},
   "outputs": [
    {
     "name": "stdout",
     "output_type": "stream",
     "text": [
      "Encoder Output: (64, 40, 1024)\n",
      "Decoder Output: (64, 38371)\n",
      "Decoder Hidden State: (64, 1024)\n",
      "Attention: (64, 40, 1)\n"
     ]
    }
   ],
   "source": [
    "BATCH_SIZE     = 64\n",
    "SRC_VOCAB_SIZE = len(tokenizer_ko.index_word) + 1\n",
    "TGT_VOCAB_SIZE = len(tokenizer_en.index_word) + 1\n",
    "\n",
    "units         = 1024\n",
    "embedding_dim = 512\n",
    "dropout_rate = 0.3 # 만약 None을 넣으면 dropout을 사용하지 않는다.\n",
    "enc_mode = 'lstm' # gru, lstm\n",
    "dec_mode = 'gru' # gru, lstm\n",
    "attention = 'l' # b, l\n",
    "\n",
    "encoder = Encoder(SRC_VOCAB_SIZE, embedding_dim, units, dropout_rate, enc_mode)\n",
    "decoder = Decoder(TGT_VOCAB_SIZE, embedding_dim, units, dropout_rate, dec_mode, attention)\n",
    "\n",
    "# sample input\n",
    "sequence_len = 40\n",
    "\n",
    "sample_enc = tf.random.uniform((BATCH_SIZE, sequence_len))\n",
    "sample_output = encoder(sample_enc)\n",
    "\n",
    "print ('Encoder Output:', sample_output.shape)\n",
    "\n",
    "sample_state = tf.random.uniform((BATCH_SIZE, units))\n",
    "\n",
    "sample_logits, h_dec, attn = decoder(tf.random.uniform((BATCH_SIZE, 1)),\n",
    "                                     sample_state, sample_output)\n",
    "\n",
    "print ('Decoder Output:', sample_logits.shape)\n",
    "print ('Decoder Hidden State:', h_dec.shape)\n",
    "print ('Attention:', attn.shape)"
   ]
  },
  {
   "cell_type": "markdown",
   "metadata": {},
   "source": [
    "### 옵티마이저 와 학습 함수 설계"
   ]
  },
  {
   "cell_type": "code",
   "execution_count": 21,
   "metadata": {},
   "outputs": [],
   "source": [
    "optimizer = tf.keras.optimizers.Adam()\n",
    "loss_object = tf.keras.losses.SparseCategoricalCrossentropy(\n",
    "    from_logits=True, reduction='none')\n",
    "\n",
    "def loss_function(real, pred):\n",
    "    mask = tf.math.logical_not(tf.math.equal(real, 0))\n",
    "    loss = loss_object(real, pred)\n",
    "    \n",
    "    mask = tf.cast(mask, dtype=loss.dtype)\n",
    "    loss *= mask\n",
    "    \n",
    "    return tf.reduce_mean(loss)"
   ]
  },
  {
   "cell_type": "code",
   "execution_count": 33,
   "metadata": {},
   "outputs": [],
   "source": [
    "# 기존 학습 루틴과 비슷하지만, accuracy도 측정한다.\n",
    "\n",
    "@tf.function  # TensorFlow 그래프를 사용하여 연산을 최적화합니다.\n",
    "def train_step(src, tgt, encoder, decoder, optimizer, dec_tok):\n",
    "    bsz = src.shape[0]  # 배치 크기를 가져옵니다.\n",
    "    loss = 0  # 초기 손실을 0으로 설정합니다.\n",
    "\n",
    "    with tf.GradientTape() as tape:  # GradientTape를 열어 자동 미분을 활용합니다.\n",
    "        enc_out = encoder(src)  # 입력값을 Encoder에 통과시킵니다.\n",
    "        h_dec = enc_out[:, -1]  # Encoder의 마지막 hidden state를 가져옵니다.\n",
    "\n",
    "        # Decoder의 입력으로 사용될 '<start>' 토큰을 생성합니다.\n",
    "        dec_src = tf.expand_dims([dec_tok.word_index['<start>']] * bsz, 1)\n",
    "\n",
    "        accuracy = 0  # 초기 정확도를 0으로 설정합니다.\n",
    "        for t in range(1, tgt.shape[1]):  # 타겟의 각 시퀀스에 대해 반복합니다.\n",
    "            # Decoder로부터 예측값, 새로운 hidden state, attention weight를 얻습니다.\n",
    "            pred, h_dec, _ = decoder(dec_src, h_dec, enc_out)\n",
    "\n",
    "            # 손실 함수를 계산하고 누적 손실에 추가합니다.\n",
    "            loss += loss_function(tgt[:, t], pred)\n",
    "            # 다음 Decoder의 입력을 결정합니다.\n",
    "            dec_src = tf.expand_dims(tgt[:, t], 1)\n",
    "\n",
    "            # 예측값의 ID를 계산하고, 예측값과 실제값이 일치하는지 확인합니다.\n",
    "            pred_ids = tf.argmax(pred, 1)\n",
    "            correct = tf.equal(pred_ids, tf.cast(tgt[:, t], tf.int64))\n",
    "            # 정확도를 계산하고 누적 정확도에 추가합니다.\n",
    "            accuracy += tf.reduce_mean(tf.cast(correct, tf.float32))\n",
    "\n",
    "    # 배치당 평균 손실과 정확도를 계산합니다.\n",
    "    batch_loss = (loss / int(tgt.shape[1]))\n",
    "    batch_accuracy = (accuracy / int(tgt.shape[1]))\n",
    "\n",
    "    # 모델의 학습 가능한 변수를 모두 가져옵니다.\n",
    "    variables = encoder.trainable_variables + decoder.trainable_variables\n",
    "    # GradientTape을 사용하여 그래디언트를 계산합니다.\n",
    "    gradients = tape.gradient(loss, variables)\n",
    "    # 계산된 그래디언트를 적용하여 학습 가능한 변수를 업데이트합니다.\n",
    "    optimizer.apply_gradients(zip(gradients, variables))\n",
    "\n",
    "    # 배치당 평균 손실과 정확도를 반환합니다.\n",
    "    return batch_loss, batch_accuracy\n"
   ]
  },
  {
   "cell_type": "markdown",
   "metadata": {},
   "source": [
    "### 학습 루틴 수행"
   ]
  },
  {
   "cell_type": "code",
   "execution_count": 24,
   "metadata": {},
   "outputs": [
    {
     "name": "stdout",
     "output_type": "stream",
     "text": [
      "Num GPUs Available:  1\n",
      "Default GPU Device: /device:GPU:0\n"
     ]
    }
   ],
   "source": [
    "# GPU 사용 여부 확인\n",
    "import tensorflow as tf\n",
    "\n",
    "# GPU 장치 리스트\n",
    "print(\"Num GPUs Available: \", len(tf.config.experimental.list_physical_devices('GPU')))\n",
    "\n",
    "# 사용 가능한 GPU 장치 확인\n",
    "if tf.test.gpu_device_name():\n",
    "    print('Default GPU Device: {}'.format(tf.test.gpu_device_name()))\n",
    "else:\n",
    "    print(\"Please install GPU version of TF\")\n"
   ]
  },
  {
   "cell_type": "code",
   "execution_count": 34,
   "metadata": {},
   "outputs": [
    {
     "name": "stderr",
     "output_type": "stream",
     "text": [
      "Epoch  1: 100%|██████████| 981/981 [09:14<00:00,  1.77it/s, Loss 3.5639, Accuracy 0.0842] \n",
      "Epoch  2: 100%|██████████| 981/981 [08:12<00:00,  1.99it/s, Loss 3.2253, Accuracy 0.1053]\n",
      "Epoch  3: 100%|██████████| 981/981 [08:13<00:00,  1.99it/s, Loss 3.0374, Accuracy 0.1152]\n",
      "Epoch  4: 100%|██████████| 981/981 [08:14<00:00,  1.99it/s, Loss 2.9051, Accuracy 0.1220]\n",
      "Epoch  5: 100%|██████████| 981/981 [08:13<00:00,  1.99it/s, Loss 2.7675, Accuracy 0.1287]\n",
      "Epoch  6: 100%|██████████| 981/981 [08:13<00:00,  1.99it/s, Loss 2.6235, Accuracy 0.1360]\n",
      "Epoch  7: 100%|██████████| 981/981 [08:13<00:00,  1.99it/s, Loss 2.4869, Accuracy 0.1445]\n",
      "Epoch  8: 100%|██████████| 981/981 [08:13<00:00,  1.99it/s, Loss 2.3587, Accuracy 0.1544]\n",
      "Epoch  9: 100%|██████████| 981/981 [08:13<00:00,  1.99it/s, Loss 2.2484, Accuracy 0.1638]\n",
      "Epoch 10: 100%|██████████| 981/981 [08:13<00:00,  1.99it/s, Loss 2.1224, Accuracy 0.1771]\n"
     ]
    }
   ],
   "source": [
    "# Training Process\n",
    "\n",
    "EPOCHS = 10\n",
    "\n",
    "# 그래프 출력을 위해 리스트추가\n",
    "losses = []\n",
    "accuracies = []\n",
    "\n",
    "with tf.device(\"/device:GPU:0\"):\n",
    "    for epoch in range(EPOCHS):\n",
    "        total_loss = 0\n",
    "        total_accuracy = 0\n",
    "\n",
    "        idx_list = list(range(0, tensor_ko.shape[0], BATCH_SIZE))\n",
    "        random.shuffle(idx_list)\n",
    "        t = tqdm(idx_list)\n",
    "\n",
    "        for (batch, idx) in enumerate(t):\n",
    "            batch_loss, batch_accuracy = train_step(tensor_ko[idx:idx+BATCH_SIZE],\n",
    "                                                    tensor_en[idx:idx+BATCH_SIZE],\n",
    "                                                    encoder,\n",
    "                                                    decoder,\n",
    "                                                    optimizer,\n",
    "                                                    tokenizer_en)\n",
    "\n",
    "            total_loss += batch_loss\n",
    "            total_accuracy += batch_accuracy\n",
    "\n",
    "            t.set_description_str('Epoch %2d' % (epoch + 1))\n",
    "            t.set_postfix_str('Loss %.4f, Accuracy %.4f' % ((total_loss.numpy() / (batch + 1)), (total_accuracy.numpy() / (batch + 1))))\n",
    "\n",
    "        # 모든 루프가 끝난 뒤 지금까지의 loss와 acc를 리스트에 저장한다.\n",
    "        losses.append(total_loss.numpy() / (batch + 1))\n",
    "        accuracies.append(total_accuracy.numpy() / (batch + 1))\n"
   ]
  },
  {
   "cell_type": "code",
   "execution_count": 35,
   "metadata": {},
   "outputs": [
    {
     "data": {
      "text/plain": [
       "(0.3, 'gru', 'gru', 'l')"
      ]
     },
     "execution_count": 35,
     "metadata": {},
     "output_type": "execute_result"
    }
   ],
   "source": [
    "dropout_rate,enc_mode,dec_mode,attention"
   ]
  },
  {
   "cell_type": "markdown",
   "metadata": {},
   "source": [
    "### 결과 시각화"
   ]
  },
  {
   "cell_type": "code",
   "execution_count": 36,
   "metadata": {},
   "outputs": [
    {
     "data": {
      "image/png": "[encoded data removed]",
      "text/plain": [
       "<Figure size 864x288 with 2 Axes>"
      ]
     },
     "metadata": {},
     "output_type": "display_data"
    }
   ],
   "source": [
    "# loss와 acc 시각화\n",
    "def visualize_training_results(losses, accuracies):\n",
    "    epochs = range(1, len(losses) + 1)\n",
    "\n",
    "    plt.figure(figsize=(12, 4))\n",
    "    plt.subplot(1, 2, 1)\n",
    "    plt.plot(epochs, losses, 'bo', label='Training loss')\n",
    "    plt.title('Training loss')\n",
    "    plt.legend()\n",
    "\n",
    "    plt.subplot(1, 2, 2)\n",
    "    plt.plot(epochs, accuracies, 'bo', label='Training accuracy')\n",
    "    plt.title('Training accuracy')\n",
    "    plt.legend()\n",
    "\n",
    "    plt.show()\n",
    "\n",
    "visualize_training_results(losses, accuracies)\n"
   ]
  },
  {
   "cell_type": "markdown",
   "metadata": {},
   "source": [
    "### 결론\n",
    "\n",
    "시각화 자료를 통해 모델이 노드에서 요구하는 평가 기준에 부합한지 평가했다.\n",
    "사실 텍스트 생성모델에서 정확도는 크게 영향력이 있고, 신빙성이 있는 지표는 아니다.\n",
    "하지만, Loss는 점점 비교적 가파르게 감소하는 모습을 보였고, accuracy도 꽤 안정적으로 증가하는 모습을 보인다.\n",
    "\n",
    "이로서 수치상으로 봤을 때, 학습 자체는 성공적으로 이루어진 것으로 보인다.\n",
    "\n",
    "### 모델에 대해서\n",
    "노드에서 주어진 모델에서 딱 3가지를 변경하려고 시도했다.\n",
    "- lstm vs gru\n",
    "- BahdanauAttention vs LuongAttention\n",
    "- Dropout\n",
    "\n",
    "각각에 대해서 다음의 결과가 반영되었다.\n",
    "\n",
    "Encoder: gru\n",
    "Decoder: gru, luong attention\n",
    "dropout: 0.3 each\n",
    "\n",
    "사실 내 계획은 Encoder에 lstm을 넣는 것이었으나 OOM 문제가 발생했다.\n",
    "\n",
    "그럼에도 불구하고, 사실상 어텐션만 변경했을 뿐인데,  \n",
    "과거 수치 대비 정확도가 7% 증가했고 loss는 1.1이 감소했다.\n",
    "\n",
    "나름 유의미한 결과를 냈다고 생각한다.  \n",
    "물론 시간이 더 있었으면, 개선할 수 있었을 것이다."
   ]
  },
  {
   "cell_type": "markdown",
   "metadata": {},
   "source": [
    "## 어텐션 맵 그리기"
   ]
  },
  {
   "cell_type": "code",
   "execution_count": 37,
   "metadata": {},
   "outputs": [],
   "source": [
    "# 텍스트 전처리와 inference 과정을 거친다.\n",
    "def evaluate(sentence, encoder, decoder):\n",
    "    # 데이터 준비 과정\n",
    "    attention = np.zeros((tensor_en.shape[-1], tensor_ko.shape[-1]))\n",
    "    \n",
    "    sentence = preprocess_sentence(sentence)\n",
    "    mecab = Mecab()\n",
    "    sentence = mecab.morphs(sentence)\n",
    "    \n",
    "    inputs = tokenizer_ko.texts_to_sequences([sentence])\n",
    "    inputs = tf.keras.preprocessing.sequence.pad_sequences(inputs,\n",
    "                                                           maxlen=tensor_ko.shape[-1],\n",
    "                                                           padding='post')\n",
    "\n",
    "    # 인퍼런스 루틴\n",
    "    result = ''\n",
    "\n",
    "    enc_out = encoder(inputs)\n",
    "\n",
    "    dec_hidden = enc_out[:, -1]\n",
    "    dec_input = tf.expand_dims([tokenizer_en.word_index['<start>']], 0)\n",
    "                            \n",
    "    for t in range(tensor_en.shape[-1]):\n",
    "        predictions, dec_hidden, attention_weights = decoder(dec_input,\n",
    "                                                             dec_hidden,\n",
    "                                                             enc_out)\n",
    "\n",
    "        attention_weights = tf.reshape(attention_weights, (-1, ))\n",
    "        attention[t] = attention_weights.numpy()                                           \n",
    "\n",
    "        predicted_id = \\\n",
    "        tf.argmax(tf.math.softmax(predictions, axis=-1)[0]).numpy()\n",
    "\n",
    "        result += tokenizer_en.index_word[predicted_id] + ' '\n",
    "\n",
    "        if tokenizer_en.index_word[predicted_id] == '<end>':\n",
    "            return result, sentence, attention\n",
    "\n",
    "        dec_input = tf.expand_dims([predicted_id], 0)\n",
    "\n",
    "    # 시각화를 위한 데이터 리턴\n",
    "    return result, sentence, attention\n",
    "\n",
    "# 시각화를 위한 함수\n",
    "def plot_attention(attention, sentence, predicted_sentence):\n",
    "    fig = plt.figure(figsize=(10,10))\n",
    "    ax = fig.add_subplot(1, 1, 1)\n",
    "    ax.matshow(attention, cmap='viridis')\n",
    "\n",
    "    fontdict = {'fontsize': 14}\n",
    "\n",
    "    ax.set_xticklabels([''] + sentence, fontdict=fontdict, rotation=90)\n",
    "    ax.set_yticklabels([''] + predicted_sentence, fontdict=fontdict)\n",
    "\n",
    "    ax.xaxis.set_major_locator(ticker.MultipleLocator(1))\n",
    "    ax.yaxis.set_major_locator(ticker.MultipleLocator(1))\n",
    "\n",
    "    plt.show()"
   ]
  },
  {
   "cell_type": "code",
   "execution_count": 38,
   "metadata": {},
   "outputs": [],
   "source": [
    "# 위 함수들을 이용해서 번역 및 그 결과에 대한 시각화를 제공하는 함수\n",
    "def translate(sentence, encoder, decoder):\n",
    "    result, sentence, attention = evaluate(sentence, encoder, decoder)\n",
    "\n",
    "    print('Input: %s' % (sentence))\n",
    "    print('Predicted translation: {}'.format(result))\n",
    "    \n",
    "    attention = attention[:len(result.split()), :len(sentence)]\n",
    "    plot_attention(attention, sentence, result.split(' '))"
   ]
  },
  {
   "cell_type": "code",
   "execution_count": 45,
   "metadata": {},
   "outputs": [
    {
     "name": "stdout",
     "output_type": "stream",
     "text": [
      "Input: ['오늘', '은', '월요일', '이', '다', '.']\n",
      "Predicted translation: today show this morning . <end> \n"
     ]
    },
    {
     "name": "stderr",
     "output_type": "stream",
     "text": [
      "/tmp/ipykernel_630/2279439154.py:52: UserWarning: FixedFormatter should only be used together with FixedLocator\n",
      "  ax.set_xticklabels([''] + sentence, fontdict=fontdict, rotation=90)\n",
      "/tmp/ipykernel_630/2279439154.py:53: UserWarning: FixedFormatter should only be used together with FixedLocator\n",
      "  ax.set_yticklabels([''] + predicted_sentence, fontdict=fontdict)\n"
     ]
    },
    {
     "data": {
      "image/png": "[encoded data removed]",
      "text/plain": [
       "<Figure size 720x720 with 1 Axes>"
      ]
     },
     "metadata": {},
     "output_type": "display_data"
    }
   ],
   "source": [
    "'''\n",
    "## 예문 ##\n",
    "K1) 오바마는 대통령이다.\n",
    "K2) 시민들은 도시 속에 산다.\n",
    "K3) 커피는 필요 없다.\n",
    "K4) 일곱 명의 사망자가 발생했다.\n",
    "\n",
    "## 제출 ##\n",
    "E1) obama is the president . <end>\n",
    "E2) people are victims of the city . <end>\n",
    "E2) the price is not enough . <end>\n",
    "E2) seven people have died . <end>\n",
    "'''\n",
    "# 각 예문에 대한 번역 결과 및 시각화 결과를 출력한다.\n",
    "# sens = ['오바마는 대통령이다.', '시민들은 도시 속에 산다.', '커피는 필요 없다.', '일곱 명의 사망자가 발생했다.']\n",
    "sens = ['오늘은 월요일이다.']\n",
    "for sen in sens:\n",
    "    translate(sen, encoder, decoder)"
   ]
  },
  {
   "cell_type": "markdown",
   "metadata": {},
   "source": [
    "## 결론\n",
    "\n",
    "비슷하게 의미를 정확하게 추론시킨 것 같지만, 아직 부족한 점이 많다.  \n",
    "1epochs당 10분이라 소요시간 대비 결과가 매우 실망스럽다.  \n",
    "\n",
    "좀 더 적절한 장비와 더 많은 시간이 주었졌다면, 좀 더 잘 나왔을 것이다.\n",
    "\n"
   ]
  },
  {
   "cell_type": "code",
   "execution_count": null,
   "metadata": {},
   "outputs": [],
   "source": []
  }
 ],
 "metadata": {
  "kernelspec": {
   "display_name": "Python 3 (ipykernel)",
   "language": "python",
   "name": "python3"
  },
  "language_info": {
   "codemirror_mode": {
    "name": "ipython",
    "version": 3
   },
   "file_extension": ".py",
   "mimetype": "text/x-python",
   "name": "python",
   "nbconvert_exporter": "python",
   "pygments_lexer": "ipython3",
   "version": "3.9.7"
  }
 },
 "nbformat": 4,
 "nbformat_minor": 2
}
